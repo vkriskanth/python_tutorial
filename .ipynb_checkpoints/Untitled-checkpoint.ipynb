{
 "cells": [
  {
   "cell_type": "markdown",
   "metadata": {},
   "source": [
    "finding key connectors"
   ]
  },
  {
   "cell_type": "code",
   "execution_count": 1,
   "metadata": {},
   "outputs": [],
   "source": [
    "users=[\n",
    "    {\"id\":0,\"name\":\"Hero\"},\n",
    "    {\"id\":1,\"name\":\"Dunn\"},\n",
    "    {\"id\":2,\"name\":\"Sue\"},\n",
    "    {\"id\":3,\"name\":\"Chi\"},\n",
    "    {\"id\":4,\"name\":\"Thor\"},\n",
    "    {\"id\":5,\"name\":\"Clive\"},\n",
    "    {\"id\":6,\"name\":\"Hicks\"},\n",
    "    {\"id\":7,\"name\":\"Devin\"},\n",
    "    {\"id\":8,\"name\":\"Kate\"},\n",
    "    {\"id\":9,\"name\":\"Klein\"}\n",
    "]"
   ]
  },
  {
   "cell_type": "code",
   "execution_count": 2,
   "metadata": {},
   "outputs": [],
   "source": [
    "friendships = [(0,1),(0,2),(1,2),(1,3),(2,3),(3,4),(4,5),(5,6),(5,7),(6,8),(7,8),(8,9)]"
   ]
  },
  {
   "cell_type": "code",
   "execution_count": 4,
   "metadata": {},
   "outputs": [],
   "source": [
    "# add list of friends to each user\n",
    "for user in users:\n",
    "    user[\"friends\"]=[]\n",
    "    \n",
    "#now we populate that with friendships data\n",
    "\n",
    "for i,j in friendships:\n",
    "    users[i][\"friends\"].append(users[j]) #adding i as a friend of j\n",
    "    users[j][\"friends\"].append(users[i]) #adding j as a friend of i\n"
   ]
  },
  {
   "cell_type": "code",
   "execution_count": 6,
   "metadata": {},
   "outputs": [
    {
     "name": "stdout",
     "output_type": "stream",
     "text": [
      "24\n"
     ]
    }
   ],
   "source": [
    "#once each user dict contains a list of friends we can easily ask questions to the graph like, \n",
    "#what is the avg number of connections\n",
    "\n",
    "def number_of_friends(user):\n",
    "    \"\"\"how many friends does a user have?\"\"\"\n",
    "    return len(user[\"friends\"]) #length of friend_ids list\n",
    "\n",
    "total_connections = sum(number_of_friends(user) for user in users)\n",
    "\n",
    "print(total_connections)"
   ]
  },
  {
   "cell_type": "code",
   "execution_count": 8,
   "metadata": {},
   "outputs": [
    {
     "name": "stdout",
     "output_type": "stream",
     "text": [
      "2.4\n"
     ]
    }
   ],
   "source": [
    "from __future__ import division\n",
    "num_users = len(users)\n",
    "avg_connections = total_connections/num_users\n",
    "\n",
    "print(avg_connections)"
   ]
  },
  {
   "cell_type": "code",
   "execution_count": 9,
   "metadata": {},
   "outputs": [
    {
     "name": "stdout",
     "output_type": "stream",
     "text": [
      "[(0, 2), (1, 3), (2, 3), (3, 3), (4, 2), (5, 3), (6, 2), (7, 2), (8, 3), (9, 1)]\n"
     ]
    }
   ],
   "source": [
    "#it is also easy to find out the most connected people, they are people having the highest number of friends\n",
    "\n",
    "num_friends_by_id=[(user[\"id\"],number_of_friends(user))\n",
    "                  for user in users]\n",
    "\n",
    "print(num_friends_by_id)"
   ]
  },
  {
   "cell_type": "code",
   "execution_count": 17,
   "metadata": {},
   "outputs": [
    {
     "name": "stdout",
     "output_type": "stream",
     "text": [
      "[(1, 3), (2, 3), (3, 3), (5, 3), (8, 3), (0, 2), (4, 2), (6, 2), (7, 2), (9, 1)]\n"
     ]
    }
   ],
   "source": [
    "#now printing the list of id's based on the max number of friends\n",
    "\n",
    "import operator\n",
    "\n",
    "num_friends_by_id.sort(key=operator.itemgetter(1),reverse=True)\n",
    "\n",
    "print(num_friends_by_id)\n",
    "\n",
    "# with the above exercise we have found out the network metric degree centrality"
   ]
  },
  {
   "cell_type": "markdown",
   "metadata": {},
   "source": [
    "data scientists you may know"
   ]
  },
  {
   "cell_type": "code",
   "execution_count": null,
   "metadata": {},
   "outputs": [],
   "source": [
    "def friends_of_friend_ids_bad(user):\n",
    "    #foaf is short for friend of friend\n",
    "    return[foaf[\"id\"]\n",
    "          for friend in user[\"friends\"] # for each of user's friends\n",
    "           for foaf in friend[\"friends\"]]"
   ]
  }
 ],
 "metadata": {
  "kernelspec": {
   "display_name": "Python 3",
   "language": "python",
   "name": "python3"
  },
  "language_info": {
   "codemirror_mode": {
    "name": "ipython",
    "version": 3
   },
   "file_extension": ".py",
   "mimetype": "text/x-python",
   "name": "python",
   "nbconvert_exporter": "python",
   "pygments_lexer": "ipython3",
   "version": "3.7.1"
  }
 },
 "nbformat": 4,
 "nbformat_minor": 2
}
